{
 "cells": [
  {
   "cell_type": "markdown",
   "metadata": {},
   "source": [
    "# My Spotify Data\n",
    "\n",
    "Katie Stevens  \n",
    "12/17/2020  \n",
    "CPSC 222 Fall 2020  \n",
    "Gina Sprint  \n"
   ]
  },
  {
   "cell_type": "markdown",
   "metadata": {},
   "source": [
    "## Introduction\n",
    "### Domain Introduction\n",
    "This project takes place in the domain of music, specifically, spotify.  \n",
    "Music had always been very important to me. I have played instruments all throughout high school and here at Gonzaga in the bulldog band. It has always been a central part of my life. Music is correlated to my current moods and personality. I wanted to research my streaming history on spotify to learn more about myself through what songs I choose to listen to on a daily basis.\n",
    "\n",
    "### Dataset Description\n",
    "There is two files containined my Spotify streaming history in JSON format. The given attributes for this data are: endTime, artistName, trackName, and msPlayed.\n",
    "\n",
    "### Hypotheses\n",
    "If I listen to music during the week then, the average time I spend listening to music during the weekend is greater than during weekdays.  \n",
    "If I stream music from spotify then, the mean time spent listening during the school year is different than during the summer.\n",
    "\n",
    "### Classification\n",
    "I used a kNeighbors classifier and a Decision Tree classifier to classify whether I skipped a song or not. "
   ]
  },
  {
   "cell_type": "markdown",
   "metadata": {},
   "source": [
    "## Data Analysis\n",
    "### Dataset Description\n",
    "In this dataset, I have my spotify streaming history in JSON format that I downloaded from Spotify's website. The streaming history dateset is organized by four attributes: endTime (the date and time the track stopped playing), artistName (name of the artist), trackName (name of the song or track), and msPlayed (time played in milliseconds).  \n",
    "I decided to split the endTime column into two separate attributes 'Date' and 'Time'. I also add a column, 'Day of Week', that has the Day of the Week that song was streamed. To use for classification, I add another column, 'Skipped', about whether the track was skipped (true) or not skipped (false).\n",
    "\n",
    "### Data Preparation\n",
    "Summary of data cleaning.\n",
    "\n",
    "The endTime column in the spotify dataset has the exact date and the time when the streaming for a specific song ended. I wanted to separate the date and the time to two different columns for readability and to make the data easier to use."
   ]
  },
  {
   "cell_type": "markdown",
   "metadata": {},
   "source": [
    "Import libraries."
   ]
  },
  {
   "cell_type": "code",
   "execution_count": 1,
   "metadata": {},
   "outputs": [],
   "source": [
    "import pandas as pd\n",
    "import numpy as np\n",
    "import matplotlib.pyplot as plt\n",
    "import utils"
   ]
  },
  {
   "cell_type": "markdown",
   "metadata": {},
   "source": [
    "Read in and combine the data into one dataframe."
   ]
  },
  {
   "cell_type": "code",
   "execution_count": 24,
   "metadata": {},
   "outputs": [],
   "source": [
    "spotify1 = pd.read_json(\"StreamingHistory0.json\")\n",
    "spotify2 = pd.read_json(\"StreamingHistory1.json\")\n",
    "spotify_stream = spotify1.append(spotify2)"
   ]
  },
  {
   "cell_type": "markdown",
   "metadata": {},
   "source": [
    "By default, spotify streaming history is recorded in UTC (Coordinated Universal Time).  \n",
    "Converted to PST (Pacific Standard Time).  \n",
    "I did not think about this problem when I chose this dataset. Throughout the year I go between time zones, PST (Pacific Standard Time) and HST (Hawaii Standard Time). I was not able to figure out how to separate these easily so I converted the timezone to PST for simplicity. \n",
    "\n",
    "I also split the column 'endTime' into two columns, 'Date' and 'Time'. 'Date' is set as the index in the DataFrame."
   ]
  },
  {
   "cell_type": "code",
   "execution_count": 3,
   "metadata": {},
   "outputs": [],
   "source": [
    "spotify_stream = utils.convert_timezone(spotify_stream)\n",
    "spotify_stream = utils.split_endTime(spotify_stream)"
   ]
  },
  {
   "cell_type": "code",
   "execution_count": 4,
   "metadata": {},
   "outputs": [
    {
     "name": "stdout",
     "output_type": "stream",
     "text": [
      "Spotify Streaming Data from 2019-11-30 to 2020-11-30\n"
     ]
    }
   ],
   "source": [
    "start = spotify_stream.index[0]\n",
    "end = spotify_stream.index[-1]\n",
    "print(\"Spotify Streaming Data from\", start, \"to\", end)"
   ]
  },
  {
   "cell_type": "markdown",
   "metadata": {},
   "source": [
    "Adds the column 'Day of Week' "
   ]
  },
  {
   "cell_type": "code",
   "execution_count": 5,
   "metadata": {},
   "outputs": [],
   "source": [
    "spotify_stream = utils.add_day_of_week(spotify_stream)"
   ]
  },
  {
   "cell_type": "markdown",
   "metadata": {},
   "source": [
    "I decided to convert milliseconds into seconds for easier readability. "
   ]
  },
  {
   "cell_type": "code",
   "execution_count": 6,
   "metadata": {},
   "outputs": [],
   "source": [
    "spotify_stream[\"msPlayed\"] = spotify_stream[\"msPlayed\"] / 1000\n",
    "spotify_stream = spotify_stream.rename(columns={\"msPlayed\": \"secPlayed\"})"
   ]
  },
  {
   "cell_type": "markdown",
   "metadata": {},
   "source": [
    "### Exploratory Data Analysis"
   ]
  },
  {
   "cell_type": "markdown",
   "metadata": {},
   "source": [
    "Calculated and displayed my total listening time in hours."
   ]
  },
  {
   "cell_type": "code",
   "execution_count": 7,
   "metadata": {},
   "outputs": [
    {
     "name": "stdout",
     "output_type": "stream",
     "text": [
      "I spent about 675.97 total hours listening to music on Spotify from 2019-11-30 to 2020-11-30\n"
     ]
    }
   ],
   "source": [
    "time = np.sum(spotify_stream[\"secPlayed\"])\n",
    "time = time / 60 / 60 # hours\n",
    "print(\"I spent about %.2f\"%time, \"total hours listening to music on Spotify from\", start, \"to\", end)"
   ]
  },
  {
   "cell_type": "markdown",
   "metadata": {},
   "source": [
    "\n",
    "A true or false column named 'Skipped' is added to the end of the DataFrame. The number of songs skipped is calculated.  \n",
    "A copy of the original spotify streaming is made to be used later and the skipped songs are removed from the data set. "
   ]
  },
  {
   "cell_type": "code",
   "execution_count": 8,
   "metadata": {},
   "outputs": [
    {
     "name": "stdout",
     "output_type": "stream",
     "text": [
      "Total songs listened to: 19009\n",
      "Number of skipped songs: 6718 (listened to for less than 60 seconds).\n",
      "I skipped 35.34 % of the songs I listened to.\n"
     ]
    }
   ],
   "source": [
    "spotify_stream, num_skipped = utils.add_skip_col(spotify_stream)\n",
    "total = len(spotify_stream)\n",
    "percent = (num_skipped / len(spotify_stream)) * 100\n",
    "spotify_stream_full = spotify_stream.copy() # For future use\n",
    "spotify_stream = spotify_stream[~spotify_stream['Skipped']] # Filter out skipped songs\n",
    "\n",
    "print(\"Total songs listened to:\", total)\n",
    "print(\"Number of skipped songs:\", num_skipped, \"(listened to for less than 60 seconds).\")\n",
    "print(\"I skipped %.2f\"%percent, \"% of the songs I listened to.\")"
   ]
  },
  {
   "cell_type": "markdown",
   "metadata": {},
   "source": [
    "Calculated and displayed the number of unique artists I listened to and my top five artists."
   ]
  },
  {
   "cell_type": "code",
   "execution_count": 9,
   "metadata": {},
   "outputs": [
    {
     "name": "stdout",
     "output_type": "stream",
     "text": [
      "Number of unqiue artists listened to:  1485 \n",
      "\n",
      "Top five artists:\n",
      "\n",
      "1. Rex Orange County (470 times streamed)\n",
      "\n",
      "2. Quinn XCII (416 times streamed)\n",
      "\n",
      "3. Panic! At The Disco (377 times streamed)\n",
      "\n",
      "4. Billie Eilish (288 times streamed)\n",
      "\n",
      "5. Conan Gray (281 times streamed)\n"
     ]
    }
   ],
   "source": [
    "artist_played = utils.get_most_artists(spotify_stream)\n",
    "\n",
    "print(\"Number of unqiue artists listened to: \", len(artist_played), \"\\n\")\n",
    "\n",
    "print(\"Top five artists:\")\n",
    "for i in range(0, 5):\n",
    "    print(\"\\n\", i + 1, \". \", artist_played.index[i], \" (\", artist_played[i], \" times streamed)\", sep='')"
   ]
  },
  {
   "cell_type": "markdown",
   "metadata": {},
   "source": [
    "Calculated and displayed the number of unqiue tracks I listened to and my top five tracks."
   ]
  },
  {
   "cell_type": "code",
   "execution_count": 10,
   "metadata": {},
   "outputs": [
    {
     "name": "stdout",
     "output_type": "stream",
     "text": [
      "Number of unqiue tracks listened to:  3349 \n",
      "\n",
      "Top five tracks:\n",
      "\n",
      "1. Best Friend (98 times streamed)\n",
      "\n",
      "2. Maniac (85 times streamed)\n",
      "\n",
      "3. Flare Guns (83 times streamed)\n",
      "\n",
      "4. Straightjacket (75 times streamed)\n",
      "\n",
      "5. Electric Love (74 times streamed)\n"
     ]
    }
   ],
   "source": [
    "track_played = utils.get_most_tracks(spotify_stream)\n",
    "\n",
    "print(\"Number of unqiue tracks listened to: \", len(track_played), \"\\n\")\n",
    "\n",
    "print(\"Top five tracks:\")\n",
    "for i in range(0, 5):\n",
    "    print(\"\\n\", i + 1, \". \", track_played.index[i], \" (\", track_played[i], \" times streamed)\", sep='')"
   ]
  },
  {
   "cell_type": "markdown",
   "metadata": {},
   "source": [
    "I found these results quite surprising. They match what Spotify Wrapped 2020 reported but it did not tell me the number of times streams per song. I thought the differences would be larger."
   ]
  },
  {
   "cell_type": "markdown",
   "metadata": {},
   "source": [
    "### Weekend vs Weekday listening\n",
    "\n",
    "Hypothesis: If I listen to music during the week then, the average time I spend listening to music during the weekdays is greater than during weekends. \n",
    "\n",
    "$H_0: \\mu_{weekday} \\leq \\mu_{weekend}$  \n",
    "$H_1: \\mu_{weekday} > \\mu_{weekend}$\n",
    "\n",
    "$\\alpha = 0.10$"
   ]
  },
  {
   "cell_type": "code",
   "execution_count": 11,
   "metadata": {},
   "outputs": [],
   "source": [
    "mean_time_dow = utils.mean_day_of_week(spotify_stream)\n",
    "weekend, weekday = utils.split_weekdays(spotify_stream)"
   ]
  },
  {
   "cell_type": "code",
   "execution_count": 12,
   "metadata": {},
   "outputs": [
    {
     "name": "stdout",
     "output_type": "stream",
     "text": [
      "t-computed: 0.9863383336954812\n",
      "p-value: 0.16199326678108644\n",
      "dof: 12289\n"
     ]
    }
   ],
   "source": [
    "import scipy.stats as stats\n",
    "\n",
    "t_computed, p_val = stats.ttest_ind(weekday, weekend)\n",
    "print(\"t-computed:\", t_computed)\n",
    "print(\"p-value:\", p_val / 2)\n",
    "\n",
    "dof = len(weekend) + len(weekday) - 2\n",
    "print(\"dof:\", dof)"
   ]
  },
  {
   "cell_type": "markdown",
   "metadata": {},
   "source": [
    "From the t-distribution chart:  \n",
    "Using $\\alpha = 0.10$ and df = 19007 and knowing it is a one-tailed test we find:  \n",
    "t-critical = 1.282."
   ]
  },
  {
   "cell_type": "markdown",
   "metadata": {},
   "source": [
    "Since t-computed = 1.546 is greater than t-critical = 1.282, we Reject $H_0$. At the 0.10 significance level, we can conclude that  the average time I spend listening to music during the weekdays is greater than during the weekends."
   ]
  },
  {
   "cell_type": "markdown",
   "metadata": {},
   "source": [
    "To visualize this data, I created a bar graph of Average Time Music Streamed vs. Day of Week."
   ]
  },
  {
   "cell_type": "code",
   "execution_count": 13,
   "metadata": {},
   "outputs": [
    {
     "data": {
      "image/png": "[encoded data removed]",
      "text/plain": [
       "<Figure size 432x288 with 1 Axes>"
      ]
     },
     "metadata": {
      "needs_background": "light"
     },
     "output_type": "display_data"
    }
   ],
   "source": [
    "import matplotlib.pyplot as plt\n",
    "\n",
    "plt.figure()\n",
    "plt.bar(mean_time_dow.index, mean_time_dow)\n",
    "plt.xticks(rotation=45)\n",
    "\n",
    "plt.title(\"Average Time Music Streamed by Day of the Week\")\n",
    "plt.xlabel(\"Day of Week\")\n",
    "plt.ylabel(\"Average Time Music Streamed (hours)\")\n",
    "plt.show()"
   ]
  },
  {
   "cell_type": "markdown",
   "metadata": {},
   "source": [
    "Looking at the graph, the days Sunday through Thursday show a consistent average of about 2.0 - 2.5 hours of average time streaming music. There looks to be a significant decrease of listening to music on Friday's and Saturday's. I think this is because on Friday's and Saturday's I typically decide to go out and do things so I am not listening to music.  \n",
    "Except for Friday, Saturday and Sunday have the least average streaming time for music. "
   ]
  },
  {
   "cell_type": "markdown",
   "metadata": {},
   "source": [
    "### Summer vs School Listening"
   ]
  },
  {
   "cell_type": "markdown",
   "metadata": {},
   "source": [
    "If I stream music from spotify then, the mean time spent listening during the school year is different than during the summer. \n",
    "\n",
    "$H_0: \\mu_{school} = \\mu_{summer}$  \n",
    "$H_1: \\mu_{school} \\neq \\mu_{summer}$  \n",
    "\n",
    "$\\alpha = 0.10$"
   ]
  },
  {
   "cell_type": "code",
   "execution_count": 14,
   "metadata": {},
   "outputs": [],
   "source": [
    "summer_df = spotify_stream.loc[\"2020-05-16\":\"2020-08-30\"] # May to August\n",
    "school_df =  spotify_stream.loc[\"2020-08-31\":] # September to December"
   ]
  },
  {
   "cell_type": "code",
   "execution_count": 15,
   "metadata": {},
   "outputs": [
    {
     "name": "stdout",
     "output_type": "stream",
     "text": [
      "t-computed: -0.8903599652008447\n",
      "p-value: 0.1871793398249909\n",
      "dof: 197\n"
     ]
    }
   ],
   "source": [
    "summer = utils.date_total_time(summer_df)\n",
    "school = utils.date_total_time(school_df)\n",
    "t_computed, p_val = stats.ttest_ind(school, summer)\n",
    "print(\"t-computed:\", t_computed)\n",
    "print(\"p-value:\", p_val / 2)\n",
    "dof = len(school) + len(summer) - 2\n",
    "print(\"dof:\", dof)"
   ]
  },
  {
   "cell_type": "markdown",
   "metadata": {},
   "source": [
    "From the t-distribution chart:  \n",
    "Using $\\alpha = 0.10$ and df = 197 and knowing it is a two-tailed test we find:  \n",
    "t-critical = 1.645."
   ]
  },
  {
   "cell_type": "markdown",
   "metadata": {},
   "source": [
    "Since t-computed = -0.890 and is between t-critical = -1.645 and 1.645, we Do Not Reject $H_0$. At the 0.10 significance level, we can not conclude that there is a difference between the average time streaming music during the school year is different than during the summer."
   ]
  },
  {
   "cell_type": "code",
   "execution_count": 16,
   "metadata": {},
   "outputs": [
    {
     "data": {
      "image/png": "[encoded data removed]",
      "text/plain": [
       "<Figure size 432x288 with 1 Axes>"
      ]
     },
     "metadata": {
      "needs_background": "light"
     },
     "output_type": "display_data"
    },
    {
     "data": {
      "image/png": "[encoded data removed]",
      "text/plain": [
       "<Figure size 432x288 with 1 Axes>"
      ]
     },
     "metadata": {
      "needs_background": "light"
     },
     "output_type": "display_data"
    }
   ],
   "source": [
    "# School\n",
    "plt.plot(school.index, school)\n",
    "plt.title(\"During School\")\n",
    "plt.xlabel(\"Date\")\n",
    "plt.ylabel(\"Hours Listened\")\n",
    "plt.xticks(rotation=90)\n",
    "plt.show()\n",
    "\n",
    "# Summer\n",
    "plt.plot(summer.index, summer)\n",
    "plt.title(\"During Summer\")\n",
    "plt.xlabel(\"Date\")\n",
    "plt.ylabel(\"Hours Listened\")\n",
    "plt.xticks(rotation=90)\n",
    "plt.show()"
   ]
  },
  {
   "cell_type": "markdown",
   "metadata": {},
   "source": [
    "I can see from the graphs that my listening time is quite sporatic. There are a few outliers where I listen to almost 7 or 8 hours in one day and there are several days that I do not listen to music at all. "
   ]
  },
  {
   "cell_type": "markdown",
   "metadata": {},
   "source": [
    "From seeing the graphs by day, I was curious to see how big of a difference if I looked at the data during the summer and during school but by day of the week."
   ]
  },
  {
   "cell_type": "code",
   "execution_count": 17,
   "metadata": {},
   "outputs": [
    {
     "data": {
      "image/png": "[encoded data removed]",
      "text/plain": [
       "<Figure size 432x288 with 1 Axes>"
      ]
     },
     "metadata": {
      "needs_background": "light"
     },
     "output_type": "display_data"
    },
    {
     "data": {
      "image/png": "[encoded data removed]",
      "text/plain": [
       "<Figure size 432x288 with 1 Axes>"
      ]
     },
     "metadata": {
      "needs_background": "light"
     },
     "output_type": "display_data"
    }
   ],
   "source": [
    "school = utils.mean_day_of_week(school_df)\n",
    "summer = utils.mean_day_of_week(summer_df)\n",
    "\n",
    "#School\n",
    "plt.bar(school.index, school)\n",
    "plt.title(\"School\")\n",
    "plt.xlabel(\"Day of Week\")\n",
    "plt.ylabel(\"Streaming Time in Hours\")\n",
    "plt.xticks(rotation=45)\n",
    "plt.show()\n",
    "\n",
    "plt.bar(summer.index, summer)\n",
    "plt.title(\"Summer\")\n",
    "plt.xlabel(\"Day of Week\")\n",
    "plt.ylabel(\"Streaming Time in Hours\")\n",
    "plt.xticks(rotation=45)\n",
    "plt.show()"
   ]
  },
  {
   "cell_type": "markdown",
   "metadata": {},
   "source": [
    "From these graphs, I can see that I have a trend during the summer where I listen to music the most durinng Monday then is steadily decreases each day until Sunday. I think this might be because Sunday and Monday are typically my biggest study days and I typically like to listen to music while I study.  \n",
    "The graph showing my listening time during the summer does not show a solid trend based on day of the week. I think this is because I do not typically have a schedule during the summer."
   ]
  },
  {
   "cell_type": "markdown",
   "metadata": {},
   "source": [
    "## Classification"
   ]
  },
  {
   "cell_type": "markdown",
   "metadata": {},
   "source": [
    "I wanted to see if I can classify whether I skipped a song or not from the attributes.  \n",
    "\n",
    "I set the 'Skipped' column to y and set the rest of the dataset without 'Skipped' to X. I also dropped the column 'secPlayed' from the dataset because that is what I used to initially predict if the song was skipped or not. I only want to look at the attributes: 'Date', 'Time', 'trackName', 'artistName', and 'Day of Week'."
   ]
  },
  {
   "cell_type": "code",
   "execution_count": 18,
   "metadata": {},
   "outputs": [],
   "source": [
    "spotify_stream = spotify_stream_full\n",
    "y = spotify_stream['Skipped']\n",
    "X = spotify_stream.drop(columns=['Skipped', 'secPlayed'], axis=1)"
   ]
  },
  {
   "cell_type": "markdown",
   "metadata": {},
   "source": [
    "Because most of my attributes are categorical, I needed to transform them to numerical. I did this using LabelEncoder."
   ]
  },
  {
   "cell_type": "code",
   "execution_count": 19,
   "metadata": {},
   "outputs": [],
   "source": [
    "from sklearn import preprocessing\n",
    "\n",
    "le = preprocessing.LabelEncoder()\n",
    "X.index = le.fit_transform(X.index)\n",
    "X['trackName'] = le.fit_transform(X['trackName'])\n",
    "X['artistName'] = le.fit_transform(X['artistName'])\n",
    "X['Time'] = le.fit_transform(X['Time'])\n",
    "X['Day of Week'] = le.fit_transform(X['Day of Week'])"
   ]
  },
  {
   "cell_type": "markdown",
   "metadata": {},
   "source": [
    "I split the dataset into a training and testing set. Reserving 25% for the training set. "
   ]
  },
  {
   "cell_type": "code",
   "execution_count": 20,
   "metadata": {},
   "outputs": [],
   "source": [
    "from sklearn.preprocessing import MinMaxScaler\n",
    "from sklearn.model_selection import train_test_split\n",
    "\n",
    "scaler = MinMaxScaler()\n",
    "X = scaler.fit_transform(X)\n",
    "X_train, X_test, y_train, y_test = train_test_split(X, y, random_state=0)"
   ]
  },
  {
   "cell_type": "markdown",
   "metadata": {},
   "source": [
    "Using kNeighbors, I calculated the prediction accuracy."
   ]
  },
  {
   "cell_type": "code",
   "execution_count": 43,
   "metadata": {},
   "outputs": [
    {
     "name": "stdout",
     "output_type": "stream",
     "text": [
      "KNeighbors Classifer Accuracy: 0.6341258152745635\n"
     ]
    }
   ],
   "source": [
    "from sklearn.neighbors import KNeighborsClassifier\n",
    "\n",
    "neigh = KNeighborsClassifier(n_neighbors=8) # 8 neighbors gives the best accuracy\n",
    "\n",
    "neigh.fit(X_train, y_train)\n",
    "\n",
    "accuracy = neigh.score(X_test, y_test)\n",
    "print(\"KNeighbors Classifer Accuracy:\", accuracy)\n",
    "\n",
    "y_predicted = neigh.predict(X_test)"
   ]
  },
  {
   "cell_type": "markdown",
   "metadata": {},
   "source": [
    "Using the Decision Tree Classifier, I calculated the predicted accuracy."
   ]
  },
  {
   "cell_type": "code",
   "execution_count": 22,
   "metadata": {},
   "outputs": [
    {
     "name": "stdout",
     "output_type": "stream",
     "text": [
      "Decision Tree Classifier Accuracy: 0.6522196507468967\n"
     ]
    }
   ],
   "source": [
    "from sklearn.tree import DecisionTreeClassifier\n",
    "\n",
    "clf = DecisionTreeClassifier(max_depth=3) # max depth of 3 gives the best accuracy\n",
    "clf.fit(X_train, y_train)\n",
    "accuracy = clf.score(X_test, y_test)\n",
    "print(\"Decision Tree Classifier Accuracy:\", accuracy)"
   ]
  },
  {
   "cell_type": "markdown",
   "metadata": {},
   "source": [
    "## Conclusion\n",
    "\n",
    "Overall, this project made me realize how much I listen to music on the daily. If I were to do this again, I would compare my streaming history to a dataset of what activitiy I am doing while listening to music.  \n",
    "I used my data to compare the time I listened to music to the day of the week. From my hypothesis, I found that it was statistically significant that I listened to music during the weekdays more than the weekends. I was also curious to how my streaming history data changed from being on break during the summer to being in school. The hypothesis did not provide me with a statistically significant conclusion whether I listened to music more during school or during the summer. Though by graphing this data, I was able to see that I had more of a pattern when listening to music during the school year than during the summer. \n",
    "\n",
    "I used the Date, Time, artistName, trackName, and Day of Week to predict whether I skipped a song or not. The first thing I had to do was transform my data into numeric data to be able to use the classifier. My classifier worked relatively well at being able to predict correctly if I skipped a song or not about 65% of the time. The Decision Tree Classifier has a better accuracy compared to the kNeighbors classifier.  \n",
    "The stakeholders for this project are myself, Spotify, and people who are interested on how music affects the student."
   ]
  }
 ],
 "metadata": {
  "kernelspec": {
   "display_name": "Python 3",
   "language": "python",
   "name": "python3"
  },
  "language_info": {
   "codemirror_mode": {
    "name": "ipython",
    "version": 3
   },
   "file_extension": ".py",
   "mimetype": "text/x-python",
   "name": "python",
   "nbconvert_exporter": "python",
   "pygments_lexer": "ipython3",
   "version": "3.8.3"
  }
 },
 "nbformat": 4,
 "nbformat_minor": 4
}
